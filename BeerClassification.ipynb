{
 "cells": [
  {
   "cell_type": "markdown",
   "metadata": {},
   "source": [
    "# Machine Learning\n",
    "## Assignment 1\n",
    "### Morgan Reilly -- 20235398"
   ]
  },
  {
   "cell_type": "markdown",
   "metadata": {},
   "source": [
    "## References:\n",
    "* https://scikit-learn.org/stable/tutorial/text_analytics/working_with_text_data.html#tutorial-setup"
   ]
  },
  {
   "cell_type": "markdown",
   "metadata": {},
   "source": [
    "## Imports"
   ]
  },
  {
   "cell_type": "code",
   "execution_count": 1,
   "metadata": {},
   "outputs": [],
   "source": [
    "import pandas as pd\n",
    "import sklearn as sk\n",
    "import numpy as np\n",
    "import csv\n",
    "\n",
    "from sklearn.feature_extraction.text import CountVectorizer\n",
    "from sklearn import tree"
   ]
  },
  {
   "cell_type": "markdown",
   "metadata": {},
   "source": [
    "## Text Processing"
   ]
  },
  {
   "cell_type": "markdown",
   "metadata": {},
   "source": [
    "* Create csv file from text file\n",
    "* Read in text file and transpose to csv\n",
    "* Do this for both test and train data"
   ]
  },
  {
   "cell_type": "markdown",
   "metadata": {},
   "source": [
    "#### Training Data"
   ]
  },
  {
   "cell_type": "code",
   "execution_count": 2,
   "metadata": {},
   "outputs": [],
   "source": [
    "# Read in and store training data as datafram\n",
    "training_data = pd.read_csv(\"data/beer_training.txt\",\n",
    "                            sep=\"\\t\", header=None)\n",
    "training_data.columns = ['calorific_value', 'nitrogen', 'turbidity',\n",
    "                        'style', 'alcohol', 'sugars', 'bitterness',\n",
    "                        'beer_id', 'colour', 'degree_of_fermentation']\n",
    "# Convert to csv file and save\n",
    "training_data.to_csv(\"data/beer_training.csv\", index=None)\n",
    "training_data = pd.read_csv(\"data/beer_training.csv\")"
   ]
  },
  {
   "cell_type": "code",
   "execution_count": 3,
   "metadata": {
    "scrolled": true
   },
   "outputs": [
    {
     "data": {
      "text/html": [
       "<div>\n",
       "<style scoped>\n",
       "    .dataframe tbody tr th:only-of-type {\n",
       "        vertical-align: middle;\n",
       "    }\n",
       "\n",
       "    .dataframe tbody tr th {\n",
       "        vertical-align: top;\n",
       "    }\n",
       "\n",
       "    .dataframe thead th {\n",
       "        text-align: right;\n",
       "    }\n",
       "</style>\n",
       "<table border=\"1\" class=\"dataframe\">\n",
       "  <thead>\n",
       "    <tr style=\"text-align: right;\">\n",
       "      <th></th>\n",
       "      <th>calorific_value</th>\n",
       "      <th>nitrogen</th>\n",
       "      <th>turbidity</th>\n",
       "      <th>style</th>\n",
       "      <th>alcohol</th>\n",
       "      <th>sugars</th>\n",
       "      <th>bitterness</th>\n",
       "      <th>beer_id</th>\n",
       "      <th>colour</th>\n",
       "      <th>degree_of_fermentation</th>\n",
       "    </tr>\n",
       "  </thead>\n",
       "  <tbody>\n",
       "    <tr>\n",
       "      <th>0</th>\n",
       "      <td>45.305310</td>\n",
       "      <td>0.459548</td>\n",
       "      <td>1.917273</td>\n",
       "      <td>ale</td>\n",
       "      <td>4.227692</td>\n",
       "      <td>16.67</td>\n",
       "      <td>12.568947</td>\n",
       "      <td>167</td>\n",
       "      <td>11.04</td>\n",
       "      <td>62.178571</td>\n",
       "    </tr>\n",
       "    <tr>\n",
       "      <th>1</th>\n",
       "      <td>43.889381</td>\n",
       "      <td>0.548977</td>\n",
       "      <td>3.186364</td>\n",
       "      <td>ale</td>\n",
       "      <td>4.289231</td>\n",
       "      <td>16.73</td>\n",
       "      <td>14.974000</td>\n",
       "      <td>128</td>\n",
       "      <td>13.44</td>\n",
       "      <td>63.032857</td>\n",
       "    </tr>\n",
       "    <tr>\n",
       "      <th>2</th>\n",
       "      <td>41.588496</td>\n",
       "      <td>0.542847</td>\n",
       "      <td>1.568182</td>\n",
       "      <td>ale</td>\n",
       "      <td>4.344615</td>\n",
       "      <td>16.48</td>\n",
       "      <td>11.848789</td>\n",
       "      <td>88</td>\n",
       "      <td>14.04</td>\n",
       "      <td>63.468571</td>\n",
       "    </tr>\n",
       "    <tr>\n",
       "      <th>3</th>\n",
       "      <td>44.553097</td>\n",
       "      <td>0.480301</td>\n",
       "      <td>1.871818</td>\n",
       "      <td>ale</td>\n",
       "      <td>4.424615</td>\n",
       "      <td>18.59</td>\n",
       "      <td>13.879632</td>\n",
       "      <td>147</td>\n",
       "      <td>12.48</td>\n",
       "      <td>63.531429</td>\n",
       "    </tr>\n",
       "    <tr>\n",
       "      <th>4</th>\n",
       "      <td>41.013274</td>\n",
       "      <td>0.441860</td>\n",
       "      <td>2.345455</td>\n",
       "      <td>ale</td>\n",
       "      <td>4.264615</td>\n",
       "      <td>16.35</td>\n",
       "      <td>12.186053</td>\n",
       "      <td>74</td>\n",
       "      <td>12.12</td>\n",
       "      <td>63.747143</td>\n",
       "    </tr>\n",
       "  </tbody>\n",
       "</table>\n",
       "</div>"
      ],
      "text/plain": [
       "   calorific_value  nitrogen  turbidity style   alcohol  sugars  bitterness  \\\n",
       "0        45.305310  0.459548   1.917273   ale  4.227692   16.67   12.568947   \n",
       "1        43.889381  0.548977   3.186364   ale  4.289231   16.73   14.974000   \n",
       "2        41.588496  0.542847   1.568182   ale  4.344615   16.48   11.848789   \n",
       "3        44.553097  0.480301   1.871818   ale  4.424615   18.59   13.879632   \n",
       "4        41.013274  0.441860   2.345455   ale  4.264615   16.35   12.186053   \n",
       "\n",
       "   beer_id  colour  degree_of_fermentation  \n",
       "0      167   11.04               62.178571  \n",
       "1      128   13.44               63.032857  \n",
       "2       88   14.04               63.468571  \n",
       "3      147   12.48               63.531429  \n",
       "4       74   12.12               63.747143  "
      ]
     },
     "execution_count": 3,
     "metadata": {},
     "output_type": "execute_result"
    }
   ],
   "source": [
    "training_data.head()"
   ]
  },
  {
   "cell_type": "markdown",
   "metadata": {},
   "source": [
    "#### Test Data"
   ]
  },
  {
   "cell_type": "code",
   "execution_count": 4,
   "metadata": {},
   "outputs": [],
   "source": [
    "# Read in and store training data as datafram\n",
    "test_data = pd.read_csv(\"data/beer_test.txt\",\n",
    "                            sep=\"\\t\", header=None)\n",
    "test_data.columns = ['calorific_value', 'nitrogen', 'turbidity',\n",
    "                        'style', 'alcohol', 'sugars', 'bitterness',\n",
    "                        'beer_id', 'colour', 'degree_of_fermentation']\n",
    "# Convert to csv file and save\n",
    "test_data.to_csv(\"data/beer_test.csv\", index=None)\n",
    "test_data = pd.read_csv(\"data/beer_test.csv\")"
   ]
  },
  {
   "cell_type": "code",
   "execution_count": 5,
   "metadata": {
    "scrolled": true
   },
   "outputs": [
    {
     "data": {
      "text/html": [
       "<div>\n",
       "<style scoped>\n",
       "    .dataframe tbody tr th:only-of-type {\n",
       "        vertical-align: middle;\n",
       "    }\n",
       "\n",
       "    .dataframe tbody tr th {\n",
       "        vertical-align: top;\n",
       "    }\n",
       "\n",
       "    .dataframe thead th {\n",
       "        text-align: right;\n",
       "    }\n",
       "</style>\n",
       "<table border=\"1\" class=\"dataframe\">\n",
       "  <thead>\n",
       "    <tr style=\"text-align: right;\">\n",
       "      <th></th>\n",
       "      <th>calorific_value</th>\n",
       "      <th>nitrogen</th>\n",
       "      <th>turbidity</th>\n",
       "      <th>style</th>\n",
       "      <th>alcohol</th>\n",
       "      <th>sugars</th>\n",
       "      <th>bitterness</th>\n",
       "      <th>beer_id</th>\n",
       "      <th>colour</th>\n",
       "      <th>degree_of_fermentation</th>\n",
       "    </tr>\n",
       "  </thead>\n",
       "  <tbody>\n",
       "    <tr>\n",
       "      <th>0</th>\n",
       "      <td>41.721239</td>\n",
       "      <td>0.503276</td>\n",
       "      <td>2.628182</td>\n",
       "      <td>ale</td>\n",
       "      <td>4.015385</td>\n",
       "      <td>16.73</td>\n",
       "      <td>10.452789</td>\n",
       "      <td>93</td>\n",
       "      <td>13.44</td>\n",
       "      <td>55.337143</td>\n",
       "    </tr>\n",
       "    <tr>\n",
       "      <th>1</th>\n",
       "      <td>42.429204</td>\n",
       "      <td>0.525512</td>\n",
       "      <td>1.776364</td>\n",
       "      <td>ale</td>\n",
       "      <td>4.092308</td>\n",
       "      <td>16.72</td>\n",
       "      <td>10.999526</td>\n",
       "      <td>103</td>\n",
       "      <td>12.24</td>\n",
       "      <td>58.380000</td>\n",
       "    </tr>\n",
       "    <tr>\n",
       "      <th>2</th>\n",
       "      <td>45.880531</td>\n",
       "      <td>0.443233</td>\n",
       "      <td>2.628182</td>\n",
       "      <td>ale</td>\n",
       "      <td>4.276923</td>\n",
       "      <td>16.68</td>\n",
       "      <td>13.456368</td>\n",
       "      <td>178</td>\n",
       "      <td>10.92</td>\n",
       "      <td>58.382857</td>\n",
       "    </tr>\n",
       "    <tr>\n",
       "      <th>3</th>\n",
       "      <td>45.305310</td>\n",
       "      <td>0.471668</td>\n",
       "      <td>1.806364</td>\n",
       "      <td>ale</td>\n",
       "      <td>4.126154</td>\n",
       "      <td>18.84</td>\n",
       "      <td>9.202737</td>\n",
       "      <td>166</td>\n",
       "      <td>10.92</td>\n",
       "      <td>58.525714</td>\n",
       "    </tr>\n",
       "    <tr>\n",
       "      <th>4</th>\n",
       "      <td>38.977876</td>\n",
       "      <td>0.392846</td>\n",
       "      <td>2.272727</td>\n",
       "      <td>ale</td>\n",
       "      <td>4.015385</td>\n",
       "      <td>16.77</td>\n",
       "      <td>9.457895</td>\n",
       "      <td>44</td>\n",
       "      <td>10.56</td>\n",
       "      <td>58.900000</td>\n",
       "    </tr>\n",
       "  </tbody>\n",
       "</table>\n",
       "</div>"
      ],
      "text/plain": [
       "   calorific_value  nitrogen  turbidity style   alcohol  sugars  bitterness  \\\n",
       "0        41.721239  0.503276   2.628182   ale  4.015385   16.73   10.452789   \n",
       "1        42.429204  0.525512   1.776364   ale  4.092308   16.72   10.999526   \n",
       "2        45.880531  0.443233   2.628182   ale  4.276923   16.68   13.456368   \n",
       "3        45.305310  0.471668   1.806364   ale  4.126154   18.84    9.202737   \n",
       "4        38.977876  0.392846   2.272727   ale  4.015385   16.77    9.457895   \n",
       "\n",
       "   beer_id  colour  degree_of_fermentation  \n",
       "0       93   13.44               55.337143  \n",
       "1      103   12.24               58.380000  \n",
       "2      178   10.92               58.382857  \n",
       "3      166   10.92               58.525714  \n",
       "4       44   10.56               58.900000  "
      ]
     },
     "execution_count": 5,
     "metadata": {},
     "output_type": "execute_result"
    }
   ],
   "source": [
    "test_data.head()"
   ]
  },
  {
   "cell_type": "code",
   "execution_count": 6,
   "metadata": {},
   "outputs": [
    {
     "data": {
      "text/plain": [
       "calorific_value           124\n",
       "nitrogen                  124\n",
       "turbidity                 124\n",
       "style                     124\n",
       "alcohol                   124\n",
       "sugars                    124\n",
       "bitterness                124\n",
       "beer_id                   124\n",
       "colour                    124\n",
       "degree_of_fermentation    124\n",
       "dtype: int64"
      ]
     },
     "execution_count": 6,
     "metadata": {},
     "output_type": "execute_result"
    }
   ],
   "source": [
    "training_data.count()"
   ]
  },
  {
   "cell_type": "markdown",
   "metadata": {},
   "source": [
    "## Classification\n",
    "Adapted from: https://scikit-learn.org/stable/modules/tree.html#classification\n",
    "* 2 input arrays: \n",
    "    * X -> 2D array"
   ]
  },
  {
   "cell_type": "code",
   "execution_count": 7,
   "metadata": {
    "scrolled": false
   },
   "outputs": [
    {
     "data": {
      "text/html": [
       "<div>\n",
       "<style scoped>\n",
       "    .dataframe tbody tr th:only-of-type {\n",
       "        vertical-align: middle;\n",
       "    }\n",
       "\n",
       "    .dataframe tbody tr th {\n",
       "        vertical-align: top;\n",
       "    }\n",
       "\n",
       "    .dataframe thead th {\n",
       "        text-align: right;\n",
       "    }\n",
       "</style>\n",
       "<table border=\"1\" class=\"dataframe\">\n",
       "  <thead>\n",
       "    <tr style=\"text-align: right;\">\n",
       "      <th></th>\n",
       "      <th>calorific_value</th>\n",
       "      <th>nitrogen</th>\n",
       "      <th>turbidity</th>\n",
       "      <th>alcohol</th>\n",
       "      <th>sugars</th>\n",
       "      <th>bitterness</th>\n",
       "      <th>beer_id</th>\n",
       "      <th>colour</th>\n",
       "      <th>degree_of_fermentation</th>\n",
       "    </tr>\n",
       "  </thead>\n",
       "  <tbody>\n",
       "    <tr>\n",
       "      <th>count</th>\n",
       "      <td>124.000000</td>\n",
       "      <td>124.000000</td>\n",
       "      <td>124.000000</td>\n",
       "      <td>124.000000</td>\n",
       "      <td>124.000000</td>\n",
       "      <td>124.000000</td>\n",
       "      <td>124.000000</td>\n",
       "      <td>124.000000</td>\n",
       "      <td>124.000000</td>\n",
       "    </tr>\n",
       "    <tr>\n",
       "      <th>mean</th>\n",
       "      <td>41.638096</td>\n",
       "      <td>0.322277</td>\n",
       "      <td>1.858922</td>\n",
       "      <td>3.998486</td>\n",
       "      <td>17.365645</td>\n",
       "      <td>8.935387</td>\n",
       "      <td>90.032258</td>\n",
       "      <td>11.321226</td>\n",
       "      <td>67.143733</td>\n",
       "    </tr>\n",
       "    <tr>\n",
       "      <th>std</th>\n",
       "      <td>2.623812</td>\n",
       "      <td>0.135035</td>\n",
       "      <td>0.891977</td>\n",
       "      <td>0.250500</td>\n",
       "      <td>1.113639</td>\n",
       "      <td>3.419934</td>\n",
       "      <td>50.833370</td>\n",
       "      <td>2.842828</td>\n",
       "      <td>5.862946</td>\n",
       "    </tr>\n",
       "    <tr>\n",
       "      <th>min</th>\n",
       "      <td>37.075221</td>\n",
       "      <td>0.107013</td>\n",
       "      <td>0.290909</td>\n",
       "      <td>3.393846</td>\n",
       "      <td>15.740000</td>\n",
       "      <td>2.730211</td>\n",
       "      <td>1.000000</td>\n",
       "      <td>5.760000</td>\n",
       "      <td>53.668571</td>\n",
       "    </tr>\n",
       "    <tr>\n",
       "      <th>25%</th>\n",
       "      <td>38.966814</td>\n",
       "      <td>0.215891</td>\n",
       "      <td>1.192727</td>\n",
       "      <td>3.801538</td>\n",
       "      <td>16.560000</td>\n",
       "      <td>6.140829</td>\n",
       "      <td>44.500000</td>\n",
       "      <td>9.000000</td>\n",
       "      <td>63.336071</td>\n",
       "    </tr>\n",
       "    <tr>\n",
       "      <th>50%</th>\n",
       "      <td>41.809735</td>\n",
       "      <td>0.290150</td>\n",
       "      <td>1.720000</td>\n",
       "      <td>4.015385</td>\n",
       "      <td>16.900000</td>\n",
       "      <td>9.436842</td>\n",
       "      <td>94.500000</td>\n",
       "      <td>11.520000</td>\n",
       "      <td>66.663571</td>\n",
       "    </tr>\n",
       "    <tr>\n",
       "      <th>75%</th>\n",
       "      <td>44.022124</td>\n",
       "      <td>0.405223</td>\n",
       "      <td>2.373409</td>\n",
       "      <td>4.219231</td>\n",
       "      <td>18.150000</td>\n",
       "      <td>11.476408</td>\n",
       "      <td>133.500000</td>\n",
       "      <td>13.230000</td>\n",
       "      <td>70.733929</td>\n",
       "    </tr>\n",
       "    <tr>\n",
       "      <th>max</th>\n",
       "      <td>45.836283</td>\n",
       "      <td>0.742774</td>\n",
       "      <td>4.255455</td>\n",
       "      <td>4.427692</td>\n",
       "      <td>20.650000</td>\n",
       "      <td>20.063789</td>\n",
       "      <td>177.000000</td>\n",
       "      <td>20.520000</td>\n",
       "      <td>87.238571</td>\n",
       "    </tr>\n",
       "  </tbody>\n",
       "</table>\n",
       "</div>"
      ],
      "text/plain": [
       "       calorific_value    nitrogen   turbidity     alcohol      sugars  \\\n",
       "count       124.000000  124.000000  124.000000  124.000000  124.000000   \n",
       "mean         41.638096    0.322277    1.858922    3.998486   17.365645   \n",
       "std           2.623812    0.135035    0.891977    0.250500    1.113639   \n",
       "min          37.075221    0.107013    0.290909    3.393846   15.740000   \n",
       "25%          38.966814    0.215891    1.192727    3.801538   16.560000   \n",
       "50%          41.809735    0.290150    1.720000    4.015385   16.900000   \n",
       "75%          44.022124    0.405223    2.373409    4.219231   18.150000   \n",
       "max          45.836283    0.742774    4.255455    4.427692   20.650000   \n",
       "\n",
       "       bitterness     beer_id      colour  degree_of_fermentation  \n",
       "count  124.000000  124.000000  124.000000              124.000000  \n",
       "mean     8.935387   90.032258   11.321226               67.143733  \n",
       "std      3.419934   50.833370    2.842828                5.862946  \n",
       "min      2.730211    1.000000    5.760000               53.668571  \n",
       "25%      6.140829   44.500000    9.000000               63.336071  \n",
       "50%      9.436842   94.500000   11.520000               66.663571  \n",
       "75%     11.476408  133.500000   13.230000               70.733929  \n",
       "max     20.063789  177.000000   20.520000               87.238571  "
      ]
     },
     "execution_count": 7,
     "metadata": {},
     "output_type": "execute_result"
    }
   ],
   "source": [
    "training_data.describe()"
   ]
  },
  {
   "cell_type": "markdown",
   "metadata": {},
   "source": [
    "## Classification"
   ]
  },
  {
   "cell_type": "markdown",
   "metadata": {},
   "source": [
    "#### Sample Set\n",
    "* `n_samples`"
   ]
  },
  {
   "cell_type": "code",
   "execution_count": 12,
   "metadata": {},
   "outputs": [
    {
     "name": "stdout",
     "output_type": "stream",
     "text": [
      "124\n"
     ]
    }
   ],
   "source": [
    "n_samples = []\n",
    "for col,row in training_data.iterrows():\n",
    "    rows = [row[0], row[1], row[2], row[4], row[5], \n",
    "            row[6], row[7], row[8], row[9]]\n",
    "    n_samples.append(rows) \n",
    "print(len(n_samples))"
   ]
  },
  {
   "cell_type": "markdown",
   "metadata": {},
   "source": [
    "#### Feature Set\n",
    "* `n_features`"
   ]
  },
  {
   "cell_type": "code",
   "execution_count": 13,
   "metadata": {},
   "outputs": [
    {
     "name": "stdout",
     "output_type": "stream",
     "text": [
      "124\n"
     ]
    }
   ],
   "source": [
    "n_features = []\n",
    "for col in training_data['style']:\n",
    "    n_features.append(col)\n",
    "    \n",
    "print(len(n_features))"
   ]
  },
  {
   "cell_type": "markdown",
   "metadata": {},
   "source": [
    "##### Set X, y"
   ]
  },
  {
   "cell_type": "code",
   "execution_count": 16,
   "metadata": {
    "scrolled": true
   },
   "outputs": [],
   "source": [
    "X = n_samples\n",
    "y = n_features"
   ]
  },
  {
   "cell_type": "markdown",
   "metadata": {},
   "source": [
    "##### Set Y"
   ]
  },
  {
   "cell_type": "code",
   "execution_count": 18,
   "metadata": {},
   "outputs": [
    {
     "data": {
      "text/plain": [
       "[Text(181.35000000000002, 199.32, 'X[1] <= 0.36\\ngini = 0.665\\nsamples = 124\\nvalue = [42, 44, 38]'),\n",
       " Text(111.60000000000001, 163.07999999999998, 'X[7] <= 9.42\\ngini = 0.552\\nsamples = 84\\nvalue = [5, 42, 37]'),\n",
       " Text(55.800000000000004, 126.83999999999999, 'X[5] <= 9.667\\ngini = 0.111\\nsamples = 34\\nvalue = [0, 2, 32]'),\n",
       " Text(27.900000000000002, 90.6, 'gini = 0.0\\nsamples = 32\\nvalue = [0, 0, 32]'),\n",
       " Text(83.7, 90.6, 'gini = 0.0\\nsamples = 2\\nvalue = [0, 2, 0]'),\n",
       " Text(167.4, 126.83999999999999, 'X[3] <= 3.934\\ngini = 0.34\\nsamples = 50\\nvalue = [5, 40, 5]'),\n",
       " Text(139.5, 90.6, 'gini = 0.0\\nsamples = 37\\nvalue = [0, 37, 0]'),\n",
       " Text(195.3, 90.6, 'X[5] <= 8.714\\ngini = 0.651\\nsamples = 13\\nvalue = [5, 3, 5]'),\n",
       " Text(139.5, 54.359999999999985, 'X[2] <= 1.615\\ngini = 0.408\\nsamples = 7\\nvalue = [0, 2, 5]'),\n",
       " Text(111.60000000000001, 18.119999999999976, 'gini = 0.0\\nsamples = 2\\nvalue = [0, 2, 0]'),\n",
       " Text(167.4, 18.119999999999976, 'gini = 0.0\\nsamples = 5\\nvalue = [0, 0, 5]'),\n",
       " Text(251.10000000000002, 54.359999999999985, 'X[1] <= 0.247\\ngini = 0.278\\nsamples = 6\\nvalue = [5, 1, 0]'),\n",
       " Text(223.20000000000002, 18.119999999999976, 'gini = 0.0\\nsamples = 1\\nvalue = [0, 1, 0]'),\n",
       " Text(279.0, 18.119999999999976, 'gini = 0.0\\nsamples = 5\\nvalue = [5, 0, 0]'),\n",
       " Text(251.10000000000002, 163.07999999999998, 'X[2] <= 0.969\\ngini = 0.141\\nsamples = 40\\nvalue = [37, 2, 1]'),\n",
       " Text(223.20000000000002, 126.83999999999999, 'gini = 0.0\\nsamples = 2\\nvalue = [0, 2, 0]'),\n",
       " Text(279.0, 126.83999999999999, 'X[5] <= 6.588\\ngini = 0.051\\nsamples = 38\\nvalue = [37, 0, 1]'),\n",
       " Text(251.10000000000002, 90.6, 'gini = 0.0\\nsamples = 1\\nvalue = [0, 0, 1]'),\n",
       " Text(306.90000000000003, 90.6, 'gini = 0.0\\nsamples = 37\\nvalue = [37, 0, 0]')]"
      ]
     },
     "execution_count": 18,
     "metadata": {},
     "output_type": "execute_result"
    },
    {
     "data": {
      "image/png": "[encoded data removed]",
      "text/plain": [
       "<Figure size 432x288 with 1 Axes>"
      ]
     },
     "metadata": {
      "needs_background": "light"
     },
     "output_type": "display_data"
    }
   ],
   "source": [
    "clf = tree.DecisionTreeClassifier()\n",
    "clf = clf.fit(X, y)\n",
    "tree.plot_tree(clf)"
   ]
  }
 ],
 "metadata": {
  "kernelspec": {
   "display_name": "Python 3",
   "language": "python",
   "name": "python3"
  },
  "language_info": {
   "codemirror_mode": {
    "name": "ipython",
    "version": 3
   },
   "file_extension": ".py",
   "mimetype": "text/x-python",
   "name": "python",
   "nbconvert_exporter": "python",
   "pygments_lexer": "ipython3",
   "version": "3.8.5"
  }
 },
 "nbformat": 4,
 "nbformat_minor": 4
}
