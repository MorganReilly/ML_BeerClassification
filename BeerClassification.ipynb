{
 "cells": [
  {
   "cell_type": "markdown",
   "metadata": {},
   "source": [
    "# Machine Learning\n",
    "## Assignment 1\n",
    "### Morgan Reilly -- 20235398"
   ]
  },
  {
   "cell_type": "markdown",
   "metadata": {},
   "source": [
    "## References:\n",
    "* https://scikit-learn.org/stable/tutorial/text_analytics/working_with_text_data.html#tutorial-setup"
   ]
  },
  {
   "cell_type": "markdown",
   "metadata": {},
   "source": [
    "## Imports"
   ]
  },
  {
   "cell_type": "code",
   "execution_count": 1,
   "metadata": {},
   "outputs": [],
   "source": [
    "import pandas as pd\n",
    "import sklearn as sk\n",
    "import numpy as np\n",
    "import csv\n",
    "\n",
    "from sklearn.feature_extraction.text import CountVectorizer\n",
    "from sklearn import tree"
   ]
  },
  {
   "cell_type": "markdown",
   "metadata": {},
   "source": [
    "## Text Processing"
   ]
  },
  {
   "cell_type": "markdown",
   "metadata": {},
   "source": [
    "* Create csv file from text file\n",
    "* Read in text file and transpose to csv\n",
    "* Do this for both test and train data"
   ]
  },
  {
   "cell_type": "markdown",
   "metadata": {},
   "source": [
    "#### Training Data"
   ]
  },
  {
   "cell_type": "code",
   "execution_count": 2,
   "metadata": {},
   "outputs": [],
   "source": [
    "# Read in and store training data as datafram\n",
    "training_data = pd.read_csv(\"data/beer_training.txt\",\n",
    "                            sep=\"\\t\", header=None)\n",
    "training_data.columns = ['calorific_value', 'nitrogen', 'turbidity',\n",
    "                        'style', 'alcohol', 'sugars', 'bitterness',\n",
    "                        'beer_id', 'colour', 'degree_of_fermentation']\n",
    "# Convert to csv file and save\n",
    "training_data.to_csv(\"data/beer_training.csv\", index=None)\n",
    "training_data = pd.read_csv(\"data/beer_training.csv\")"
   ]
  },
  {
   "cell_type": "code",
   "execution_count": 3,
   "metadata": {
    "scrolled": true
   },
   "outputs": [
    {
     "data": {
      "text/html": [
       "<div>\n",
       "<style scoped>\n",
       "    .dataframe tbody tr th:only-of-type {\n",
       "        vertical-align: middle;\n",
       "    }\n",
       "\n",
       "    .dataframe tbody tr th {\n",
       "        vertical-align: top;\n",
       "    }\n",
       "\n",
       "    .dataframe thead th {\n",
       "        text-align: right;\n",
       "    }\n",
       "</style>\n",
       "<table border=\"1\" class=\"dataframe\">\n",
       "  <thead>\n",
       "    <tr style=\"text-align: right;\">\n",
       "      <th></th>\n",
       "      <th>calorific_value</th>\n",
       "      <th>nitrogen</th>\n",
       "      <th>turbidity</th>\n",
       "      <th>style</th>\n",
       "      <th>alcohol</th>\n",
       "      <th>sugars</th>\n",
       "      <th>bitterness</th>\n",
       "      <th>beer_id</th>\n",
       "      <th>colour</th>\n",
       "      <th>degree_of_fermentation</th>\n",
       "    </tr>\n",
       "  </thead>\n",
       "  <tbody>\n",
       "    <tr>\n",
       "      <th>0</th>\n",
       "      <td>45.305310</td>\n",
       "      <td>0.459548</td>\n",
       "      <td>1.917273</td>\n",
       "      <td>ale</td>\n",
       "      <td>4.227692</td>\n",
       "      <td>16.67</td>\n",
       "      <td>12.568947</td>\n",
       "      <td>167</td>\n",
       "      <td>11.04</td>\n",
       "      <td>62.178571</td>\n",
       "    </tr>\n",
       "    <tr>\n",
       "      <th>1</th>\n",
       "      <td>43.889381</td>\n",
       "      <td>0.548977</td>\n",
       "      <td>3.186364</td>\n",
       "      <td>ale</td>\n",
       "      <td>4.289231</td>\n",
       "      <td>16.73</td>\n",
       "      <td>14.974000</td>\n",
       "      <td>128</td>\n",
       "      <td>13.44</td>\n",
       "      <td>63.032857</td>\n",
       "    </tr>\n",
       "    <tr>\n",
       "      <th>2</th>\n",
       "      <td>41.588496</td>\n",
       "      <td>0.542847</td>\n",
       "      <td>1.568182</td>\n",
       "      <td>ale</td>\n",
       "      <td>4.344615</td>\n",
       "      <td>16.48</td>\n",
       "      <td>11.848789</td>\n",
       "      <td>88</td>\n",
       "      <td>14.04</td>\n",
       "      <td>63.468571</td>\n",
       "    </tr>\n",
       "    <tr>\n",
       "      <th>3</th>\n",
       "      <td>44.553097</td>\n",
       "      <td>0.480301</td>\n",
       "      <td>1.871818</td>\n",
       "      <td>ale</td>\n",
       "      <td>4.424615</td>\n",
       "      <td>18.59</td>\n",
       "      <td>13.879632</td>\n",
       "      <td>147</td>\n",
       "      <td>12.48</td>\n",
       "      <td>63.531429</td>\n",
       "    </tr>\n",
       "    <tr>\n",
       "      <th>4</th>\n",
       "      <td>41.013274</td>\n",
       "      <td>0.441860</td>\n",
       "      <td>2.345455</td>\n",
       "      <td>ale</td>\n",
       "      <td>4.264615</td>\n",
       "      <td>16.35</td>\n",
       "      <td>12.186053</td>\n",
       "      <td>74</td>\n",
       "      <td>12.12</td>\n",
       "      <td>63.747143</td>\n",
       "    </tr>\n",
       "  </tbody>\n",
       "</table>\n",
       "</div>"
      ],
      "text/plain": [
       "   calorific_value  nitrogen  turbidity style   alcohol  sugars  bitterness  \\\n",
       "0        45.305310  0.459548   1.917273   ale  4.227692   16.67   12.568947   \n",
       "1        43.889381  0.548977   3.186364   ale  4.289231   16.73   14.974000   \n",
       "2        41.588496  0.542847   1.568182   ale  4.344615   16.48   11.848789   \n",
       "3        44.553097  0.480301   1.871818   ale  4.424615   18.59   13.879632   \n",
       "4        41.013274  0.441860   2.345455   ale  4.264615   16.35   12.186053   \n",
       "\n",
       "   beer_id  colour  degree_of_fermentation  \n",
       "0      167   11.04               62.178571  \n",
       "1      128   13.44               63.032857  \n",
       "2       88   14.04               63.468571  \n",
       "3      147   12.48               63.531429  \n",
       "4       74   12.12               63.747143  "
      ]
     },
     "execution_count": 3,
     "metadata": {},
     "output_type": "execute_result"
    }
   ],
   "source": [
    "training_data.head()"
   ]
  },
  {
   "cell_type": "markdown",
   "metadata": {},
   "source": [
    "#### Test Data"
   ]
  },
  {
   "cell_type": "code",
   "execution_count": 4,
   "metadata": {},
   "outputs": [],
   "source": [
    "# Read in and store training data as datafram\n",
    "test_data = pd.read_csv(\"data/beer_test.txt\",\n",
    "                            sep=\"\\t\", header=None)\n",
    "test_data.columns = ['calorific_value', 'nitrogen', 'turbidity',\n",
    "                        'style', 'alcohol', 'sugars', 'bitterness',\n",
    "                        'beer_id', 'colour', 'degree_of_fermentation']\n",
    "# Convert to csv file and save\n",
    "test_data.to_csv(\"data/beer_test.csv\", index=None)\n",
    "test_data = pd.read_csv(\"data/beer_test.csv\")"
   ]
  },
  {
   "cell_type": "code",
   "execution_count": 5,
   "metadata": {
    "scrolled": true
   },
   "outputs": [
    {
     "data": {
      "text/html": [
       "<div>\n",
       "<style scoped>\n",
       "    .dataframe tbody tr th:only-of-type {\n",
       "        vertical-align: middle;\n",
       "    }\n",
       "\n",
       "    .dataframe tbody tr th {\n",
       "        vertical-align: top;\n",
       "    }\n",
       "\n",
       "    .dataframe thead th {\n",
       "        text-align: right;\n",
       "    }\n",
       "</style>\n",
       "<table border=\"1\" class=\"dataframe\">\n",
       "  <thead>\n",
       "    <tr style=\"text-align: right;\">\n",
       "      <th></th>\n",
       "      <th>calorific_value</th>\n",
       "      <th>nitrogen</th>\n",
       "      <th>turbidity</th>\n",
       "      <th>style</th>\n",
       "      <th>alcohol</th>\n",
       "      <th>sugars</th>\n",
       "      <th>bitterness</th>\n",
       "      <th>beer_id</th>\n",
       "      <th>colour</th>\n",
       "      <th>degree_of_fermentation</th>\n",
       "    </tr>\n",
       "  </thead>\n",
       "  <tbody>\n",
       "    <tr>\n",
       "      <th>0</th>\n",
       "      <td>41.721239</td>\n",
       "      <td>0.503276</td>\n",
       "      <td>2.628182</td>\n",
       "      <td>ale</td>\n",
       "      <td>4.015385</td>\n",
       "      <td>16.73</td>\n",
       "      <td>10.452789</td>\n",
       "      <td>93</td>\n",
       "      <td>13.44</td>\n",
       "      <td>55.337143</td>\n",
       "    </tr>\n",
       "    <tr>\n",
       "      <th>1</th>\n",
       "      <td>42.429204</td>\n",
       "      <td>0.525512</td>\n",
       "      <td>1.776364</td>\n",
       "      <td>ale</td>\n",
       "      <td>4.092308</td>\n",
       "      <td>16.72</td>\n",
       "      <td>10.999526</td>\n",
       "      <td>103</td>\n",
       "      <td>12.24</td>\n",
       "      <td>58.380000</td>\n",
       "    </tr>\n",
       "    <tr>\n",
       "      <th>2</th>\n",
       "      <td>45.880531</td>\n",
       "      <td>0.443233</td>\n",
       "      <td>2.628182</td>\n",
       "      <td>ale</td>\n",
       "      <td>4.276923</td>\n",
       "      <td>16.68</td>\n",
       "      <td>13.456368</td>\n",
       "      <td>178</td>\n",
       "      <td>10.92</td>\n",
       "      <td>58.382857</td>\n",
       "    </tr>\n",
       "    <tr>\n",
       "      <th>3</th>\n",
       "      <td>45.305310</td>\n",
       "      <td>0.471668</td>\n",
       "      <td>1.806364</td>\n",
       "      <td>ale</td>\n",
       "      <td>4.126154</td>\n",
       "      <td>18.84</td>\n",
       "      <td>9.202737</td>\n",
       "      <td>166</td>\n",
       "      <td>10.92</td>\n",
       "      <td>58.525714</td>\n",
       "    </tr>\n",
       "    <tr>\n",
       "      <th>4</th>\n",
       "      <td>38.977876</td>\n",
       "      <td>0.392846</td>\n",
       "      <td>2.272727</td>\n",
       "      <td>ale</td>\n",
       "      <td>4.015385</td>\n",
       "      <td>16.77</td>\n",
       "      <td>9.457895</td>\n",
       "      <td>44</td>\n",
       "      <td>10.56</td>\n",
       "      <td>58.900000</td>\n",
       "    </tr>\n",
       "  </tbody>\n",
       "</table>\n",
       "</div>"
      ],
      "text/plain": [
       "   calorific_value  nitrogen  turbidity style   alcohol  sugars  bitterness  \\\n",
       "0        41.721239  0.503276   2.628182   ale  4.015385   16.73   10.452789   \n",
       "1        42.429204  0.525512   1.776364   ale  4.092308   16.72   10.999526   \n",
       "2        45.880531  0.443233   2.628182   ale  4.276923   16.68   13.456368   \n",
       "3        45.305310  0.471668   1.806364   ale  4.126154   18.84    9.202737   \n",
       "4        38.977876  0.392846   2.272727   ale  4.015385   16.77    9.457895   \n",
       "\n",
       "   beer_id  colour  degree_of_fermentation  \n",
       "0       93   13.44               55.337143  \n",
       "1      103   12.24               58.380000  \n",
       "2      178   10.92               58.382857  \n",
       "3      166   10.92               58.525714  \n",
       "4       44   10.56               58.900000  "
      ]
     },
     "execution_count": 5,
     "metadata": {},
     "output_type": "execute_result"
    }
   ],
   "source": [
    "test_data.head()"
   ]
  },
  {
   "cell_type": "code",
   "execution_count": 6,
   "metadata": {},
   "outputs": [
    {
     "data": {
      "text/plain": [
       "calorific_value           124\n",
       "nitrogen                  124\n",
       "turbidity                 124\n",
       "style                     124\n",
       "alcohol                   124\n",
       "sugars                    124\n",
       "bitterness                124\n",
       "beer_id                   124\n",
       "colour                    124\n",
       "degree_of_fermentation    124\n",
       "dtype: int64"
      ]
     },
     "execution_count": 6,
     "metadata": {},
     "output_type": "execute_result"
    }
   ],
   "source": [
    "training_data.count()"
   ]
  },
  {
   "cell_type": "markdown",
   "metadata": {},
   "source": [
    "## Classification\n",
    "Adapted from: https://scikit-learn.org/stable/modules/tree.html#classification\n",
    "* 2 input arrays: \n",
    "    * X -> 2D array"
   ]
  },
  {
   "cell_type": "code",
   "execution_count": 8,
   "metadata": {
    "scrolled": false
   },
   "outputs": [
    {
     "data": {
      "text/html": [
       "<div>\n",
       "<style scoped>\n",
       "    .dataframe tbody tr th:only-of-type {\n",
       "        vertical-align: middle;\n",
       "    }\n",
       "\n",
       "    .dataframe tbody tr th {\n",
       "        vertical-align: top;\n",
       "    }\n",
       "\n",
       "    .dataframe thead th {\n",
       "        text-align: right;\n",
       "    }\n",
       "</style>\n",
       "<table border=\"1\" class=\"dataframe\">\n",
       "  <thead>\n",
       "    <tr style=\"text-align: right;\">\n",
       "      <th></th>\n",
       "      <th>calorific_value</th>\n",
       "      <th>nitrogen</th>\n",
       "      <th>turbidity</th>\n",
       "      <th>alcohol</th>\n",
       "      <th>sugars</th>\n",
       "      <th>bitterness</th>\n",
       "      <th>beer_id</th>\n",
       "      <th>colour</th>\n",
       "      <th>degree_of_fermentation</th>\n",
       "    </tr>\n",
       "  </thead>\n",
       "  <tbody>\n",
       "    <tr>\n",
       "      <th>count</th>\n",
       "      <td>124.000000</td>\n",
       "      <td>124.000000</td>\n",
       "      <td>124.000000</td>\n",
       "      <td>124.000000</td>\n",
       "      <td>124.000000</td>\n",
       "      <td>124.000000</td>\n",
       "      <td>124.000000</td>\n",
       "      <td>124.000000</td>\n",
       "      <td>124.000000</td>\n",
       "    </tr>\n",
       "    <tr>\n",
       "      <th>mean</th>\n",
       "      <td>41.638096</td>\n",
       "      <td>0.322277</td>\n",
       "      <td>1.858922</td>\n",
       "      <td>3.998486</td>\n",
       "      <td>17.365645</td>\n",
       "      <td>8.935387</td>\n",
       "      <td>90.032258</td>\n",
       "      <td>11.321226</td>\n",
       "      <td>67.143733</td>\n",
       "    </tr>\n",
       "    <tr>\n",
       "      <th>std</th>\n",
       "      <td>2.623812</td>\n",
       "      <td>0.135035</td>\n",
       "      <td>0.891977</td>\n",
       "      <td>0.250500</td>\n",
       "      <td>1.113639</td>\n",
       "      <td>3.419934</td>\n",
       "      <td>50.833370</td>\n",
       "      <td>2.842828</td>\n",
       "      <td>5.862946</td>\n",
       "    </tr>\n",
       "    <tr>\n",
       "      <th>min</th>\n",
       "      <td>37.075221</td>\n",
       "      <td>0.107013</td>\n",
       "      <td>0.290909</td>\n",
       "      <td>3.393846</td>\n",
       "      <td>15.740000</td>\n",
       "      <td>2.730211</td>\n",
       "      <td>1.000000</td>\n",
       "      <td>5.760000</td>\n",
       "      <td>53.668571</td>\n",
       "    </tr>\n",
       "    <tr>\n",
       "      <th>25%</th>\n",
       "      <td>38.966814</td>\n",
       "      <td>0.215891</td>\n",
       "      <td>1.192727</td>\n",
       "      <td>3.801538</td>\n",
       "      <td>16.560000</td>\n",
       "      <td>6.140829</td>\n",
       "      <td>44.500000</td>\n",
       "      <td>9.000000</td>\n",
       "      <td>63.336071</td>\n",
       "    </tr>\n",
       "    <tr>\n",
       "      <th>50%</th>\n",
       "      <td>41.809735</td>\n",
       "      <td>0.290150</td>\n",
       "      <td>1.720000</td>\n",
       "      <td>4.015385</td>\n",
       "      <td>16.900000</td>\n",
       "      <td>9.436842</td>\n",
       "      <td>94.500000</td>\n",
       "      <td>11.520000</td>\n",
       "      <td>66.663571</td>\n",
       "    </tr>\n",
       "    <tr>\n",
       "      <th>75%</th>\n",
       "      <td>44.022124</td>\n",
       "      <td>0.405223</td>\n",
       "      <td>2.373409</td>\n",
       "      <td>4.219231</td>\n",
       "      <td>18.150000</td>\n",
       "      <td>11.476408</td>\n",
       "      <td>133.500000</td>\n",
       "      <td>13.230000</td>\n",
       "      <td>70.733929</td>\n",
       "    </tr>\n",
       "    <tr>\n",
       "      <th>max</th>\n",
       "      <td>45.836283</td>\n",
       "      <td>0.742774</td>\n",
       "      <td>4.255455</td>\n",
       "      <td>4.427692</td>\n",
       "      <td>20.650000</td>\n",
       "      <td>20.063789</td>\n",
       "      <td>177.000000</td>\n",
       "      <td>20.520000</td>\n",
       "      <td>87.238571</td>\n",
       "    </tr>\n",
       "  </tbody>\n",
       "</table>\n",
       "</div>"
      ],
      "text/plain": [
       "       calorific_value    nitrogen   turbidity     alcohol      sugars  \\\n",
       "count       124.000000  124.000000  124.000000  124.000000  124.000000   \n",
       "mean         41.638096    0.322277    1.858922    3.998486   17.365645   \n",
       "std           2.623812    0.135035    0.891977    0.250500    1.113639   \n",
       "min          37.075221    0.107013    0.290909    3.393846   15.740000   \n",
       "25%          38.966814    0.215891    1.192727    3.801538   16.560000   \n",
       "50%          41.809735    0.290150    1.720000    4.015385   16.900000   \n",
       "75%          44.022124    0.405223    2.373409    4.219231   18.150000   \n",
       "max          45.836283    0.742774    4.255455    4.427692   20.650000   \n",
       "\n",
       "       bitterness     beer_id      colour  degree_of_fermentation  \n",
       "count  124.000000  124.000000  124.000000              124.000000  \n",
       "mean     8.935387   90.032258   11.321226               67.143733  \n",
       "std      3.419934   50.833370    2.842828                5.862946  \n",
       "min      2.730211    1.000000    5.760000               53.668571  \n",
       "25%      6.140829   44.500000    9.000000               63.336071  \n",
       "50%      9.436842   94.500000   11.520000               66.663571  \n",
       "75%     11.476408  133.500000   13.230000               70.733929  \n",
       "max     20.063789  177.000000   20.520000               87.238571  "
      ]
     },
     "execution_count": 8,
     "metadata": {},
     "output_type": "execute_result"
    }
   ],
   "source": [
    "training_data.describe()"
   ]
  },
  {
   "cell_type": "markdown",
   "metadata": {},
   "source": [
    "## Classification"
   ]
  },
  {
   "cell_type": "markdown",
   "metadata": {},
   "source": [
    "#### Sample Set\n",
    "* `n_samples`"
   ]
  },
  {
   "cell_type": "code",
   "execution_count": 60,
   "metadata": {},
   "outputs": [
    {
     "name": "stdout",
     "output_type": "stream",
     "text": [
      "0\n",
      "1\n",
      "2\n",
      "3\n",
      "4\n",
      "5\n",
      "6\n",
      "7\n",
      "8\n",
      "9\n",
      "10\n",
      "11\n",
      "12\n",
      "13\n",
      "14\n",
      "15\n",
      "16\n",
      "17\n",
      "18\n",
      "19\n",
      "20\n",
      "21\n",
      "22\n",
      "23\n",
      "24\n",
      "25\n",
      "26\n",
      "27\n",
      "28\n",
      "29\n",
      "30\n",
      "31\n",
      "32\n",
      "33\n",
      "34\n",
      "35\n",
      "36\n",
      "37\n",
      "38\n",
      "39\n",
      "40\n",
      "41\n",
      "42\n",
      "43\n",
      "44\n",
      "45\n",
      "46\n",
      "47\n",
      "48\n",
      "49\n",
      "50\n",
      "51\n",
      "52\n",
      "53\n",
      "54\n",
      "55\n",
      "56\n",
      "57\n",
      "58\n",
      "59\n",
      "60\n",
      "61\n",
      "62\n",
      "63\n",
      "64\n",
      "65\n",
      "66\n",
      "67\n",
      "68\n",
      "69\n",
      "70\n",
      "71\n",
      "72\n",
      "73\n",
      "74\n",
      "75\n",
      "76\n",
      "77\n",
      "78\n",
      "79\n",
      "80\n",
      "81\n",
      "82\n",
      "83\n",
      "84\n",
      "85\n",
      "86\n",
      "87\n",
      "88\n",
      "89\n",
      "90\n",
      "91\n",
      "92\n",
      "93\n",
      "94\n",
      "95\n",
      "96\n",
      "97\n",
      "98\n",
      "99\n",
      "100\n",
      "101\n",
      "102\n",
      "103\n",
      "104\n",
      "105\n",
      "106\n",
      "107\n",
      "108\n",
      "109\n",
      "110\n",
      "111\n",
      "112\n",
      "113\n",
      "114\n",
      "115\n",
      "116\n",
      "117\n",
      "118\n",
      "119\n",
      "120\n",
      "121\n",
      "122\n",
      "123\n"
     ]
    }
   ],
   "source": [
    "# n_samples = []\n",
    "for col,row in training_data.iterrows():\n",
    "    print(col)\n",
    "#     rows = [row[0], row[1], row[2], row[4], row[5], \n",
    "#             row[6], row[7], row[8], row[9]]\n",
    "    rows = np.array([row[0], row[1], row[2], row[4], row[5], \n",
    "            row[6], row[7], row[8], row[9]])\n",
    "#     print(rows)\n",
    "#     n_samples = np.array(rows)\n",
    "#     print(n_samples)\n",
    "#     n_samples.append(row[0])\n",
    "#     n_samples = np.array([row[0], row[1], row[2], row[4], \n",
    "#                           row[5], row[6], row[7], row[8], row[9]])\n",
    "\n",
    "# print(type(rows))\n",
    "# print(len(rows))\n",
    "# n_samples = np.array(rows)\n",
    "# print(n_samples)\n",
    "    \n",
    "# print(len(n_samples))\n",
    "# print(n_samples)"
   ]
  },
  {
   "cell_type": "markdown",
   "metadata": {},
   "source": [
    "#### Feature Set\n",
    "* `n_features`"
   ]
  },
  {
   "cell_type": "code",
   "execution_count": 58,
   "metadata": {},
   "outputs": [
    {
     "name": "stdout",
     "output_type": "stream",
     "text": [
      "124\n"
     ]
    }
   ],
   "source": [
    "n_features = []\n",
    "for col in training_data['style']:\n",
    "    n_features.append(col)\n",
    "    \n",
    "print(len(n_features))"
   ]
  },
  {
   "cell_type": "markdown",
   "metadata": {},
   "source": [
    "##### Set X"
   ]
  },
  {
   "cell_type": "code",
   "execution_count": 21,
   "metadata": {
    "scrolled": true
   },
   "outputs": [
    {
     "ename": "IndexError",
     "evalue": "index 1 is out of bounds for axis 0 with size 1",
     "output_type": "error",
     "traceback": [
      "\u001b[0;31m---------------------------------------------------------------------------\u001b[0m",
      "\u001b[0;31mIndexError\u001b[0m                                Traceback (most recent call last)",
      "\u001b[0;32m<ipython-input-21-f02f24587c2a>\u001b[0m in \u001b[0;36m<module>\u001b[0;34m\u001b[0m\n\u001b[1;32m      3\u001b[0m \u001b[0mX\u001b[0m \u001b[0;34m=\u001b[0m \u001b[0mnp\u001b[0m\u001b[0;34m.\u001b[0m\u001b[0marray\u001b[0m\u001b[0;34m(\u001b[0m\u001b[0;34m[\u001b[0m\u001b[0;34m[\u001b[0m\u001b[0mn_samples\u001b[0m\u001b[0;34m]\u001b[0m\u001b[0;34m,\u001b[0m\u001b[0;34m[\u001b[0m\u001b[0mn_features\u001b[0m\u001b[0;34m]\u001b[0m\u001b[0;34m]\u001b[0m\u001b[0;34m,\u001b[0m \u001b[0mdtype\u001b[0m\u001b[0;34m=\u001b[0m\u001b[0mobject\u001b[0m\u001b[0;34m)\u001b[0m\u001b[0;34m\u001b[0m\u001b[0;34m\u001b[0m\u001b[0m\n\u001b[1;32m      4\u001b[0m \u001b[0;34m\u001b[0m\u001b[0m\n\u001b[0;32m----> 5\u001b[0;31m \u001b[0mX\u001b[0m\u001b[0;34m[\u001b[0m\u001b[0;36m0\u001b[0m\u001b[0;34m]\u001b[0m\u001b[0;34m[\u001b[0m\u001b[0;36m1\u001b[0m\u001b[0;34m]\u001b[0m\u001b[0;34m\u001b[0m\u001b[0;34m\u001b[0m\u001b[0m\n\u001b[0m\u001b[1;32m      6\u001b[0m \u001b[0;31m# # Verify list population\u001b[0m\u001b[0;34m\u001b[0m\u001b[0;34m\u001b[0m\u001b[0;34m\u001b[0m\u001b[0m\n\u001b[1;32m      7\u001b[0m \u001b[0;31m# count_i, count_j= 0, 0\u001b[0m\u001b[0;34m\u001b[0m\u001b[0;34m\u001b[0m\u001b[0;34m\u001b[0m\u001b[0m\n",
      "\u001b[0;31mIndexError\u001b[0m: index 1 is out of bounds for axis 0 with size 1"
     ]
    }
   ],
   "source": [
    "# Set X\n",
    "# X = np.array[n_samples, n_features]\n",
    "X = np.array([[n_samples],[n_features]], dtype=object)\n",
    "\n",
    "X[0][1]\n",
    "# # Verify list population\n",
    "# count_i, count_j= 0, 0\n",
    "# for i in X:\n",
    "# #     print(i)\n",
    "#     for j in i:\n",
    "# #         print(j)\n",
    "#         count_j += 1\n",
    "#     count_i += 1\n",
    "    \n",
    "# print(f\"Index at i: {count_i}\\nIndex at j: {count_j}\")"
   ]
  },
  {
   "cell_type": "markdown",
   "metadata": {},
   "source": [
    "##### Set Y"
   ]
  },
  {
   "cell_type": "code",
   "execution_count": 12,
   "metadata": {},
   "outputs": [
    {
     "ename": "NameError",
     "evalue": "name 'Y' is not defined",
     "output_type": "error",
     "traceback": [
      "\u001b[0;31m---------------------------------------------------------------------------\u001b[0m",
      "\u001b[0;31mNameError\u001b[0m                                 Traceback (most recent call last)",
      "\u001b[0;32m<ipython-input-12-7ef88c3ba785>\u001b[0m in \u001b[0;36m<module>\u001b[0;34m\u001b[0m\n\u001b[1;32m      3\u001b[0m \u001b[0;31m# Verify list population\u001b[0m\u001b[0;34m\u001b[0m\u001b[0;34m\u001b[0m\u001b[0;34m\u001b[0m\u001b[0m\n\u001b[1;32m      4\u001b[0m \u001b[0mcount_i\u001b[0m\u001b[0;34m,\u001b[0m \u001b[0mcount_j\u001b[0m \u001b[0;34m=\u001b[0m \u001b[0;36m0\u001b[0m\u001b[0;34m,\u001b[0m \u001b[0;36m0\u001b[0m\u001b[0;34m\u001b[0m\u001b[0;34m\u001b[0m\u001b[0m\n\u001b[0;32m----> 5\u001b[0;31m \u001b[0;32mfor\u001b[0m \u001b[0mi\u001b[0m \u001b[0;32min\u001b[0m \u001b[0mY\u001b[0m\u001b[0;34m:\u001b[0m\u001b[0;34m\u001b[0m\u001b[0;34m\u001b[0m\u001b[0m\n\u001b[0m\u001b[1;32m      6\u001b[0m \u001b[0;31m#     print(i)\u001b[0m\u001b[0;34m\u001b[0m\u001b[0;34m\u001b[0m\u001b[0;34m\u001b[0m\u001b[0m\n\u001b[1;32m      7\u001b[0m     \u001b[0;32mfor\u001b[0m \u001b[0mj\u001b[0m \u001b[0;32min\u001b[0m \u001b[0mi\u001b[0m\u001b[0;34m:\u001b[0m\u001b[0;34m\u001b[0m\u001b[0;34m\u001b[0m\u001b[0m\n",
      "\u001b[0;31mNameError\u001b[0m: name 'Y' is not defined"
     ]
    }
   ],
   "source": [
    "y = np.array([n_samples])\n",
    "\n",
    "# Verify list population\n",
    "count_i, count_j = 0, 0\n",
    "for i in Y:\n",
    "#     print(i)\n",
    "    for j in i:\n",
    "#         print(j)\n",
    "        count_j += 1\n",
    "    count_i += 1\n",
    "    \n",
    "print(f\"Index at i: {count_i}\\nIndex at j: {count_j}\")"
   ]
  },
  {
   "cell_type": "code",
   "execution_count": null,
   "metadata": {},
   "outputs": [],
   "source": [
    "clf = tree.DecisionTreeClassifier()\n",
    "clf = clf.fit(X, y)"
   ]
  }
 ],
 "metadata": {
  "kernelspec": {
   "display_name": "Python 3",
   "language": "python",
   "name": "python3"
  },
  "language_info": {
   "codemirror_mode": {
    "name": "ipython",
    "version": 3
   },
   "file_extension": ".py",
   "mimetype": "text/x-python",
   "name": "python",
   "nbconvert_exporter": "python",
   "pygments_lexer": "ipython3",
   "version": "3.8.5"
  }
 },
 "nbformat": 4,
 "nbformat_minor": 4
}
