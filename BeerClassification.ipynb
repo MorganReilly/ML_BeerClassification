{
 "cells": [
  {
   "cell_type": "markdown",
   "metadata": {},
   "source": [
    "# Machine Learning\n",
    "## Assignment 1\n",
    "### Morgan Reilly -- 20235398"
   ]
  },
  {
   "cell_type": "markdown",
   "metadata": {},
   "source": [
    "## References:\n",
    "* https://scikit-learn.org/stable/tutorial/text_analytics/working_with_text_data.html#tutorial-setup\n",
    "* https://scikit-learn.org/stable/modules/generated/sklearn.model_selection.cross_validate.html\n",
    "* https://scikit-learn.org/stable/modules/model_evaluation.html#classification-metrics"
   ]
  },
  {
   "cell_type": "markdown",
   "metadata": {},
   "source": [
    "_Research what open-source machine learning packages are available, and select one that you think will be appropriate for this task. Your report should include a brief justification for your choice and an overview of the main features of the package you have chosen. `[4 marks max.]`_\n",
    "\n",
    "* TODO: Review and possibly re-write this...\n",
    "<br><br>\n",
    "* Upon analysis of this I found that there are many available open-source machine learning packages available for this task. These consist of the likes of TensorFlow, Keras, Scikit-learn and Theano. Through past expeirience and projects I have used TensorFlow and Keras, and for this project I had initially opted to use Keras as it is relatively user-friendly and I thought should work well for a classification task such as this. Upon reviewing this in a Q&A session for this module I found out that this task was better suited to SciKit-Learn or WEKA.\n",
    "* The main features of this application, outside of the necessary imports such as pandas or numpy, consist of the likes of the Tree library, which allow me to use the various Tree models for the Classification task at hand. I have also included various other packages such as model_selection, this is used for cross-validation, metrics which is used to generate a confusion matrix, and the ensemble library, which allows me to implement a Radom Forest Classifier."
   ]
  },
  {
   "cell_type": "markdown",
   "metadata": {},
   "source": [
    "_A dataset is supplied below. You will probably need to do some work to prepare it for input into the ML package, depending on the package’s requirements. Document any data preparation steps in your report. `[2 marks max.]`_\n",
    "\n",
    "* See work below for basic outline, will need to be fluffed out more but the gist is quite obvious"
   ]
  },
  {
   "cell_type": "markdown",
   "metadata": {},
   "source": [
    "_In the ML package, select two different classification algorithms that you will apply to the dataset to learn two different classification models. One of these should be one that we have already covered in lectures (ID3/C4.5 or kNN) while the other should be completely different from those we have already covered. In your report, include a clear description of both algorithms. Ensure that you acknowledge all of your sources of information. `[3x2 = 6 marks max.]`_\n",
    "\n",
    "* TODO: \n",
    "    * Get CART algorithm up to a decent accuracy\n",
    "    * Get Random Forest up to a decent accuracy\n",
    "    * If above feasible\n",
    "        * Implement kNN for examination purposes\n",
    "    * Write about 2 used"
   ]
  },
  {
   "cell_type": "markdown",
   "metadata": {},
   "source": [
    "_In the ML package, train each of your chosen algorithms using the training set provided in beer_training.txt. You should then test your trained models using the test set provided in beer_test.txt. Report on the results, including the classification accuracy for each model on the training set and on the test set. Also include details of the classification models constructed – these may include graphics if appropriate. `[3x2 = 6 marks max.]`_\n",
    "\n",
    "* TODO:\n",
    "    * Once accuracy is at a high point, or at least a decent point begin this section\n",
    "    * Can include the Tree grapic if using a decision tree\n",
    "    * Try plot some output if using Random Forest"
   ]
  },
  {
   "cell_type": "markdown",
   "metadata": {},
   "source": [
    "_Discuss in your report whether the two models give very similar or significantly different results, and why. `[2 marks max.]`_\n",
    "\n",
    "* TODO: This will be done last, worry about above first..."
   ]
  },
  {
   "cell_type": "markdown",
   "metadata": {},
   "source": [
    "## Imports"
   ]
  },
  {
   "cell_type": "code",
   "execution_count": 1,
   "metadata": {},
   "outputs": [],
   "source": [
    "import pandas as pd\n",
    "import sklearn as sk\n",
    "import numpy as np\n",
    "import csv\n",
    "\n",
    "from sklearn import tree\n",
    "from sklearn.model_selection import cross_validate\n",
    "from sklearn.metrics import confusion_matrix\n",
    "from sklearn.ensemble import RandomForestClassifier"
   ]
  },
  {
   "cell_type": "markdown",
   "metadata": {},
   "source": [
    "## Text Processing"
   ]
  },
  {
   "cell_type": "markdown",
   "metadata": {},
   "source": [
    "* Create csv file from text file\n",
    "* Read in text file and transpose to csv\n",
    "* Do this for both test and train data"
   ]
  },
  {
   "cell_type": "markdown",
   "metadata": {},
   "source": [
    "#### CSV Generation"
   ]
  },
  {
   "cell_type": "code",
   "execution_count": 2,
   "metadata": {},
   "outputs": [],
   "source": [
    "\"\"\"\n",
    "Read CSV\n",
    "    Load csv from disk, pass in output location\n",
    "    Convert to CSV and return\n",
    "\"\"\"\n",
    "def read_csv(file_in, file_out):\n",
    "    data = pd.read_csv(file_in, sep=\"\\t\", header=None)\n",
    "    data.columns = ['calorific_value', 'nitrogen', 'turbidity',\n",
    "                        'style', 'alcohol', 'sugars', 'bitterness',\n",
    "                        'beer_id', 'colour', 'degree_of_fermentation']\n",
    "    data.to_csv(file_out, index = None)\n",
    "    data = pd.read_csv(file_out)\n",
    "    return data"
   ]
  },
  {
   "cell_type": "markdown",
   "metadata": {},
   "source": [
    "#### Training Data"
   ]
  },
  {
   "cell_type": "code",
   "execution_count": 3,
   "metadata": {},
   "outputs": [
    {
     "data": {
      "text/html": [
       "<div>\n",
       "<style scoped>\n",
       "    .dataframe tbody tr th:only-of-type {\n",
       "        vertical-align: middle;\n",
       "    }\n",
       "\n",
       "    .dataframe tbody tr th {\n",
       "        vertical-align: top;\n",
       "    }\n",
       "\n",
       "    .dataframe thead th {\n",
       "        text-align: right;\n",
       "    }\n",
       "</style>\n",
       "<table border=\"1\" class=\"dataframe\">\n",
       "  <thead>\n",
       "    <tr style=\"text-align: right;\">\n",
       "      <th></th>\n",
       "      <th>calorific_value</th>\n",
       "      <th>nitrogen</th>\n",
       "      <th>turbidity</th>\n",
       "      <th>alcohol</th>\n",
       "      <th>sugars</th>\n",
       "      <th>bitterness</th>\n",
       "      <th>beer_id</th>\n",
       "      <th>colour</th>\n",
       "      <th>degree_of_fermentation</th>\n",
       "    </tr>\n",
       "  </thead>\n",
       "  <tbody>\n",
       "    <tr>\n",
       "      <th>count</th>\n",
       "      <td>124.000000</td>\n",
       "      <td>124.000000</td>\n",
       "      <td>124.000000</td>\n",
       "      <td>124.000000</td>\n",
       "      <td>124.000000</td>\n",
       "      <td>124.000000</td>\n",
       "      <td>124.000000</td>\n",
       "      <td>124.000000</td>\n",
       "      <td>124.000000</td>\n",
       "    </tr>\n",
       "    <tr>\n",
       "      <th>mean</th>\n",
       "      <td>41.638096</td>\n",
       "      <td>0.322277</td>\n",
       "      <td>1.858922</td>\n",
       "      <td>3.998486</td>\n",
       "      <td>17.365645</td>\n",
       "      <td>8.935387</td>\n",
       "      <td>90.032258</td>\n",
       "      <td>11.321226</td>\n",
       "      <td>67.143733</td>\n",
       "    </tr>\n",
       "    <tr>\n",
       "      <th>std</th>\n",
       "      <td>2.623812</td>\n",
       "      <td>0.135035</td>\n",
       "      <td>0.891977</td>\n",
       "      <td>0.250500</td>\n",
       "      <td>1.113639</td>\n",
       "      <td>3.419934</td>\n",
       "      <td>50.833370</td>\n",
       "      <td>2.842828</td>\n",
       "      <td>5.862946</td>\n",
       "    </tr>\n",
       "    <tr>\n",
       "      <th>min</th>\n",
       "      <td>37.075221</td>\n",
       "      <td>0.107013</td>\n",
       "      <td>0.290909</td>\n",
       "      <td>3.393846</td>\n",
       "      <td>15.740000</td>\n",
       "      <td>2.730211</td>\n",
       "      <td>1.000000</td>\n",
       "      <td>5.760000</td>\n",
       "      <td>53.668571</td>\n",
       "    </tr>\n",
       "    <tr>\n",
       "      <th>25%</th>\n",
       "      <td>38.966814</td>\n",
       "      <td>0.215891</td>\n",
       "      <td>1.192727</td>\n",
       "      <td>3.801538</td>\n",
       "      <td>16.560000</td>\n",
       "      <td>6.140829</td>\n",
       "      <td>44.500000</td>\n",
       "      <td>9.000000</td>\n",
       "      <td>63.336071</td>\n",
       "    </tr>\n",
       "    <tr>\n",
       "      <th>50%</th>\n",
       "      <td>41.809735</td>\n",
       "      <td>0.290150</td>\n",
       "      <td>1.720000</td>\n",
       "      <td>4.015385</td>\n",
       "      <td>16.900000</td>\n",
       "      <td>9.436842</td>\n",
       "      <td>94.500000</td>\n",
       "      <td>11.520000</td>\n",
       "      <td>66.663571</td>\n",
       "    </tr>\n",
       "    <tr>\n",
       "      <th>75%</th>\n",
       "      <td>44.022124</td>\n",
       "      <td>0.405223</td>\n",
       "      <td>2.373409</td>\n",
       "      <td>4.219231</td>\n",
       "      <td>18.150000</td>\n",
       "      <td>11.476408</td>\n",
       "      <td>133.500000</td>\n",
       "      <td>13.230000</td>\n",
       "      <td>70.733929</td>\n",
       "    </tr>\n",
       "    <tr>\n",
       "      <th>max</th>\n",
       "      <td>45.836283</td>\n",
       "      <td>0.742774</td>\n",
       "      <td>4.255455</td>\n",
       "      <td>4.427692</td>\n",
       "      <td>20.650000</td>\n",
       "      <td>20.063789</td>\n",
       "      <td>177.000000</td>\n",
       "      <td>20.520000</td>\n",
       "      <td>87.238571</td>\n",
       "    </tr>\n",
       "  </tbody>\n",
       "</table>\n",
       "</div>"
      ],
      "text/plain": [
       "       calorific_value    nitrogen   turbidity     alcohol      sugars  \\\n",
       "count       124.000000  124.000000  124.000000  124.000000  124.000000   \n",
       "mean         41.638096    0.322277    1.858922    3.998486   17.365645   \n",
       "std           2.623812    0.135035    0.891977    0.250500    1.113639   \n",
       "min          37.075221    0.107013    0.290909    3.393846   15.740000   \n",
       "25%          38.966814    0.215891    1.192727    3.801538   16.560000   \n",
       "50%          41.809735    0.290150    1.720000    4.015385   16.900000   \n",
       "75%          44.022124    0.405223    2.373409    4.219231   18.150000   \n",
       "max          45.836283    0.742774    4.255455    4.427692   20.650000   \n",
       "\n",
       "       bitterness     beer_id      colour  degree_of_fermentation  \n",
       "count  124.000000  124.000000  124.000000              124.000000  \n",
       "mean     8.935387   90.032258   11.321226               67.143733  \n",
       "std      3.419934   50.833370    2.842828                5.862946  \n",
       "min      2.730211    1.000000    5.760000               53.668571  \n",
       "25%      6.140829   44.500000    9.000000               63.336071  \n",
       "50%      9.436842   94.500000   11.520000               66.663571  \n",
       "75%     11.476408  133.500000   13.230000               70.733929  \n",
       "max     20.063789  177.000000   20.520000               87.238571  "
      ]
     },
     "execution_count": 3,
     "metadata": {},
     "output_type": "execute_result"
    }
   ],
   "source": [
    "# Read in and store training data as datafram\n",
    "training_data = read_csv(\"data/beer_training.txt\", \"data/beer_training.csv\")\n",
    "training_data.describe()"
   ]
  },
  {
   "cell_type": "markdown",
   "metadata": {},
   "source": [
    "#### Test Data"
   ]
  },
  {
   "cell_type": "code",
   "execution_count": 4,
   "metadata": {},
   "outputs": [
    {
     "data": {
      "text/html": [
       "<div>\n",
       "<style scoped>\n",
       "    .dataframe tbody tr th:only-of-type {\n",
       "        vertical-align: middle;\n",
       "    }\n",
       "\n",
       "    .dataframe tbody tr th {\n",
       "        vertical-align: top;\n",
       "    }\n",
       "\n",
       "    .dataframe thead th {\n",
       "        text-align: right;\n",
       "    }\n",
       "</style>\n",
       "<table border=\"1\" class=\"dataframe\">\n",
       "  <thead>\n",
       "    <tr style=\"text-align: right;\">\n",
       "      <th></th>\n",
       "      <th>calorific_value</th>\n",
       "      <th>nitrogen</th>\n",
       "      <th>turbidity</th>\n",
       "      <th>alcohol</th>\n",
       "      <th>sugars</th>\n",
       "      <th>bitterness</th>\n",
       "      <th>beer_id</th>\n",
       "      <th>colour</th>\n",
       "      <th>degree_of_fermentation</th>\n",
       "    </tr>\n",
       "  </thead>\n",
       "  <tbody>\n",
       "    <tr>\n",
       "      <th>count</th>\n",
       "      <td>30.000000</td>\n",
       "      <td>30.000000</td>\n",
       "      <td>30.000000</td>\n",
       "      <td>30.000000</td>\n",
       "      <td>30.000000</td>\n",
       "      <td>30.000000</td>\n",
       "      <td>30.000000</td>\n",
       "      <td>30.000000</td>\n",
       "      <td>30.000000</td>\n",
       "    </tr>\n",
       "    <tr>\n",
       "      <th>mean</th>\n",
       "      <td>41.722714</td>\n",
       "      <td>0.315067</td>\n",
       "      <td>1.993182</td>\n",
       "      <td>4.037641</td>\n",
       "      <td>17.213000</td>\n",
       "      <td>8.463911</td>\n",
       "      <td>91.733333</td>\n",
       "      <td>11.408000</td>\n",
       "      <td>61.087095</td>\n",
       "    </tr>\n",
       "    <tr>\n",
       "      <th>std</th>\n",
       "      <td>2.616999</td>\n",
       "      <td>0.106278</td>\n",
       "      <td>1.063155</td>\n",
       "      <td>0.246711</td>\n",
       "      <td>1.140551</td>\n",
       "      <td>3.035596</td>\n",
       "      <td>51.831247</td>\n",
       "      <td>2.599807</td>\n",
       "      <td>11.134063</td>\n",
       "    </tr>\n",
       "    <tr>\n",
       "      <th>min</th>\n",
       "      <td>37.296460</td>\n",
       "      <td>0.156837</td>\n",
       "      <td>0.689091</td>\n",
       "      <td>3.526154</td>\n",
       "      <td>15.900000</td>\n",
       "      <td>2.924895</td>\n",
       "      <td>4.000000</td>\n",
       "      <td>6.840000</td>\n",
       "      <td>37.034286</td>\n",
       "    </tr>\n",
       "    <tr>\n",
       "      <th>25%</th>\n",
       "      <td>39.973451</td>\n",
       "      <td>0.237648</td>\n",
       "      <td>1.345227</td>\n",
       "      <td>3.879231</td>\n",
       "      <td>16.647500</td>\n",
       "      <td>6.341276</td>\n",
       "      <td>54.500000</td>\n",
       "      <td>9.390000</td>\n",
       "      <td>53.237143</td>\n",
       "    </tr>\n",
       "    <tr>\n",
       "      <th>50%</th>\n",
       "      <td>41.522124</td>\n",
       "      <td>0.271882</td>\n",
       "      <td>1.771818</td>\n",
       "      <td>4.033846</td>\n",
       "      <td>16.730000</td>\n",
       "      <td>7.855421</td>\n",
       "      <td>87.000000</td>\n",
       "      <td>11.760000</td>\n",
       "      <td>59.157143</td>\n",
       "    </tr>\n",
       "    <tr>\n",
       "      <th>75%</th>\n",
       "      <td>43.977876</td>\n",
       "      <td>0.395544</td>\n",
       "      <td>2.252500</td>\n",
       "      <td>4.173846</td>\n",
       "      <td>17.752500</td>\n",
       "      <td>10.727566</td>\n",
       "      <td>131.750000</td>\n",
       "      <td>13.350000</td>\n",
       "      <td>73.330000</td>\n",
       "    </tr>\n",
       "    <tr>\n",
       "      <th>max</th>\n",
       "      <td>45.880531</td>\n",
       "      <td>0.525512</td>\n",
       "      <td>5.217273</td>\n",
       "      <td>4.563077</td>\n",
       "      <td>20.510000</td>\n",
       "      <td>13.456368</td>\n",
       "      <td>178.000000</td>\n",
       "      <td>15.360000</td>\n",
       "      <td>79.134286</td>\n",
       "    </tr>\n",
       "  </tbody>\n",
       "</table>\n",
       "</div>"
      ],
      "text/plain": [
       "       calorific_value   nitrogen  turbidity    alcohol     sugars  \\\n",
       "count        30.000000  30.000000  30.000000  30.000000  30.000000   \n",
       "mean         41.722714   0.315067   1.993182   4.037641  17.213000   \n",
       "std           2.616999   0.106278   1.063155   0.246711   1.140551   \n",
       "min          37.296460   0.156837   0.689091   3.526154  15.900000   \n",
       "25%          39.973451   0.237648   1.345227   3.879231  16.647500   \n",
       "50%          41.522124   0.271882   1.771818   4.033846  16.730000   \n",
       "75%          43.977876   0.395544   2.252500   4.173846  17.752500   \n",
       "max          45.880531   0.525512   5.217273   4.563077  20.510000   \n",
       "\n",
       "       bitterness     beer_id     colour  degree_of_fermentation  \n",
       "count   30.000000   30.000000  30.000000               30.000000  \n",
       "mean     8.463911   91.733333  11.408000               61.087095  \n",
       "std      3.035596   51.831247   2.599807               11.134063  \n",
       "min      2.924895    4.000000   6.840000               37.034286  \n",
       "25%      6.341276   54.500000   9.390000               53.237143  \n",
       "50%      7.855421   87.000000  11.760000               59.157143  \n",
       "75%     10.727566  131.750000  13.350000               73.330000  \n",
       "max     13.456368  178.000000  15.360000               79.134286  "
      ]
     },
     "execution_count": 4,
     "metadata": {},
     "output_type": "execute_result"
    }
   ],
   "source": [
    "# Read in and store test data as data-frame\n",
    "test_data = read_csv(\"data/beer_test.txt\", \"data/beer_test.csv\")\n",
    "test_data.describe()"
   ]
  },
  {
   "cell_type": "code",
   "execution_count": 5,
   "metadata": {},
   "outputs": [
    {
     "data": {
      "text/plain": [
       "calorific_value           124\n",
       "nitrogen                  124\n",
       "turbidity                 124\n",
       "style                     124\n",
       "alcohol                   124\n",
       "sugars                    124\n",
       "bitterness                124\n",
       "beer_id                   124\n",
       "colour                    124\n",
       "degree_of_fermentation    124\n",
       "dtype: int64"
      ]
     },
     "execution_count": 5,
     "metadata": {},
     "output_type": "execute_result"
    }
   ],
   "source": [
    "training_data.count()"
   ]
  },
  {
   "cell_type": "code",
   "execution_count": 6,
   "metadata": {},
   "outputs": [
    {
     "data": {
      "text/plain": [
       "calorific_value           30\n",
       "nitrogen                  30\n",
       "turbidity                 30\n",
       "style                     30\n",
       "alcohol                   30\n",
       "sugars                    30\n",
       "bitterness                30\n",
       "beer_id                   30\n",
       "colour                    30\n",
       "degree_of_fermentation    30\n",
       "dtype: int64"
      ]
     },
     "execution_count": 6,
     "metadata": {},
     "output_type": "execute_result"
    }
   ],
   "source": [
    "test_data.count()"
   ]
  },
  {
   "cell_type": "markdown",
   "metadata": {},
   "source": [
    "## Classification"
   ]
  },
  {
   "cell_type": "code",
   "execution_count": 7,
   "metadata": {},
   "outputs": [],
   "source": [
    "\"\"\"\n",
    "Generate Samples\n",
    "    Takes a pandas data frame\n",
    "    Strips the labels\n",
    "    Returns list\n",
    "\"\"\"\n",
    "def gen_samples(df):\n",
    "    n_samples = []\n",
    "    for col, row in df.iterrows():\n",
    "        rows = [row[0], row[1], row[2], row[4], row[5], \n",
    "            row[6], row[7], row[8], row[9]]\n",
    "        n_samples.append(rows)\n",
    "    return n_samples\n",
    "\n",
    "\"\"\"\n",
    "Feature Generation\n",
    "    Takes pandas data frame\n",
    "    Isolates clasifing label (in this case: style)\n",
    "    returns list\n",
    "\"\"\"\n",
    "def gen_features(df):\n",
    "    n_features = []\n",
    "    for col in df['style']:\n",
    "        n_features.append(col)\n",
    "    return n_features"
   ]
  },
  {
   "cell_type": "markdown",
   "metadata": {},
   "source": [
    "### Generate features set and sample set of:\n",
    "    * Training Data\n",
    "    * Test Data"
   ]
  },
  {
   "cell_type": "code",
   "execution_count": 8,
   "metadata": {},
   "outputs": [],
   "source": [
    "# Training Data\n",
    "n_train_samples = gen_samples(training_data)\n",
    "n_train_features = gen_features(training_data)\n",
    "\n",
    "# Test Data\n",
    "n_test_samples = gen_samples(test_data)\n",
    "n_test_features = gen_features(test_data)"
   ]
  },
  {
   "cell_type": "code",
   "execution_count": 9,
   "metadata": {
    "scrolled": true
   },
   "outputs": [],
   "source": [
    "# Training Set\n",
    "X_train = n_train_samples\n",
    "y_train = n_train_features\n",
    "\n",
    "# Testing Set\n",
    "X_test = n_test_samples\n",
    "y_test = n_test_features"
   ]
  },
  {
   "cell_type": "markdown",
   "metadata": {},
   "source": [
    "## Model\n",
    "### Training & Testing\n",
    "### Type: Decision Tree Classifier\n",
    "\n",
    "* Here I fit the model to a decision tree classifier\n",
    "* I train the model on the training data, predicit the output and then evaluate the score"
   ]
  },
  {
   "cell_type": "markdown",
   "metadata": {},
   "source": [
    "TODO: Desscribe the CART algorithm in some detail here to bulk up the report and explain why it's used rather than the CR3.? algorithm"
   ]
  },
  {
   "cell_type": "code",
   "execution_count": 10,
   "metadata": {},
   "outputs": [],
   "source": [
    "# Fit model to training data\n",
    "model = tree.DecisionTreeClassifier()\n",
    "model = model.fit(X_train, y_train)"
   ]
  },
  {
   "cell_type": "code",
   "execution_count": 11,
   "metadata": {},
   "outputs": [
    {
     "data": {
      "text/plain": [
       "{'fit_time': array([0.00067401, 0.00055432, 0.0005064 , 0.00051856, 0.0005064 ]),\n",
       " 'score_time': array([0.00029707, 0.00022626, 0.00022125, 0.0002234 , 0.00021935]),\n",
       " 'test_score': array([1.  , 0.96, 0.84, 0.96, 0.75])}"
      ]
     },
     "execution_count": 11,
     "metadata": {},
     "output_type": "execute_result"
    }
   ],
   "source": [
    "# Cross Validation - Train\n",
    "cross_validate(model, X_train, y_train)"
   ]
  },
  {
   "cell_type": "code",
   "execution_count": 12,
   "metadata": {},
   "outputs": [
    {
     "data": {
      "text/plain": [
       "{'fit_time': array([0.00050163, 0.00032616, 0.00035572, 0.00038648, 0.00040102]),\n",
       " 'score_time': array([0.00066686, 0.00025797, 0.00020027, 0.00020552, 0.00025654]),\n",
       " 'test_score': array([0.83333333, 1.        , 1.        , 1.        , 0.83333333])}"
      ]
     },
     "execution_count": 12,
     "metadata": {},
     "output_type": "execute_result"
    }
   ],
   "source": [
    "# Cross Validation - Test\n",
    "cross_validate(model, X_test, y_test)"
   ]
  },
  {
   "cell_type": "code",
   "execution_count": 13,
   "metadata": {},
   "outputs": [
    {
     "name": "stdout",
     "output_type": "stream",
     "text": [
      "Training Score: 1.0%\n"
     ]
    }
   ],
   "source": [
    "# Generate prediction score from training data \n",
    "train_predictions = model.predict(X_train)\n",
    "# print(train_predictions)\n",
    "train_score = model.score(X_train, y_train)\n",
    "print(f\"Training Score: {train_score}%\")"
   ]
  },
  {
   "cell_type": "code",
   "execution_count": 14,
   "metadata": {},
   "outputs": [
    {
     "name": "stdout",
     "output_type": "stream",
     "text": [
      "Test Score: 0.8666666666666667%\n"
     ]
    }
   ],
   "source": [
    "# Generate prediction score from testing data\n",
    "test_predictions = model.predict(X_test)\n",
    "# print(test_predictions)\n",
    "test_score = model.score(X_test, y_test)\n",
    "print(f\"Test Score: {test_score}%\")"
   ]
  },
  {
   "cell_type": "code",
   "execution_count": 15,
   "metadata": {},
   "outputs": [
    {
     "name": "stdout",
     "output_type": "stream",
     "text": [
      "Accuracy: 0.3333333333333333%\n"
     ]
    }
   ],
   "source": [
    "# Accuracy Score\n",
    "from sklearn.metrics import accuracy_score\n",
    "acc = accuracy_score(y_train[:30], y_test)\n",
    "print(f\"Accuracy: {acc}%\")"
   ]
  },
  {
   "cell_type": "code",
   "execution_count": 16,
   "metadata": {},
   "outputs": [
    {
     "data": {
      "text/plain": [
       "[Text(181.35000000000002, 199.32, 'X[1] <= 0.36\\ngini = 0.665\\nsamples = 124\\nvalue = [42, 44, 38]'),\n",
       " Text(111.60000000000001, 163.07999999999998, 'X[7] <= 9.42\\ngini = 0.552\\nsamples = 84\\nvalue = [5, 42, 37]'),\n",
       " Text(55.800000000000004, 126.83999999999999, 'X[5] <= 9.667\\ngini = 0.111\\nsamples = 34\\nvalue = [0, 2, 32]'),\n",
       " Text(27.900000000000002, 90.6, 'gini = 0.0\\nsamples = 32\\nvalue = [0, 0, 32]'),\n",
       " Text(83.7, 90.6, 'gini = 0.0\\nsamples = 2\\nvalue = [0, 2, 0]'),\n",
       " Text(167.4, 126.83999999999999, 'X[3] <= 3.934\\ngini = 0.34\\nsamples = 50\\nvalue = [5, 40, 5]'),\n",
       " Text(139.5, 90.6, 'gini = 0.0\\nsamples = 37\\nvalue = [0, 37, 0]'),\n",
       " Text(195.3, 90.6, 'X[5] <= 8.714\\ngini = 0.651\\nsamples = 13\\nvalue = [5, 3, 5]'),\n",
       " Text(139.5, 54.359999999999985, 'X[0] <= 41.721\\ngini = 0.408\\nsamples = 7\\nvalue = [0, 2, 5]'),\n",
       " Text(111.60000000000001, 18.119999999999976, 'gini = 0.0\\nsamples = 5\\nvalue = [0, 0, 5]'),\n",
       " Text(167.4, 18.119999999999976, 'gini = 0.0\\nsamples = 2\\nvalue = [0, 2, 0]'),\n",
       " Text(251.10000000000002, 54.359999999999985, 'X[4] <= 16.78\\ngini = 0.278\\nsamples = 6\\nvalue = [5, 1, 0]'),\n",
       " Text(223.20000000000002, 18.119999999999976, 'gini = 0.0\\nsamples = 1\\nvalue = [0, 1, 0]'),\n",
       " Text(279.0, 18.119999999999976, 'gini = 0.0\\nsamples = 5\\nvalue = [5, 0, 0]'),\n",
       " Text(251.10000000000002, 163.07999999999998, 'X[2] <= 0.969\\ngini = 0.141\\nsamples = 40\\nvalue = [37, 2, 1]'),\n",
       " Text(223.20000000000002, 126.83999999999999, 'gini = 0.0\\nsamples = 2\\nvalue = [0, 2, 0]'),\n",
       " Text(279.0, 126.83999999999999, 'X[7] <= 9.06\\ngini = 0.051\\nsamples = 38\\nvalue = [37, 0, 1]'),\n",
       " Text(251.10000000000002, 90.6, 'gini = 0.0\\nsamples = 1\\nvalue = [0, 0, 1]'),\n",
       " Text(306.90000000000003, 90.6, 'gini = 0.0\\nsamples = 37\\nvalue = [37, 0, 0]')]"
      ]
     },
     "execution_count": 16,
     "metadata": {},
     "output_type": "execute_result"
    },
    {
     "data": {
      "image/png": "[encoded data removed]",
      "text/plain": [
       "<Figure size 432x288 with 1 Axes>"
      ]
     },
     "metadata": {
      "needs_background": "light"
     },
     "output_type": "display_data"
    }
   ],
   "source": [
    "tree.plot_tree(model)"
   ]
  },
  {
   "cell_type": "markdown",
   "metadata": {},
   "source": [
    "## Model\n",
    "### Training & Testing\n",
    "### Type: Decision Tree Classifier\n",
    "\n",
    "* Here I fit the model to a Random Forest Classifier\n",
    "* This is done in a similar method to the Decision Tree Classifier as shown above"
   ]
  },
  {
   "cell_type": "code",
   "execution_count": 17,
   "metadata": {},
   "outputs": [],
   "source": [
    "rfc = RandomForestClassifier(n_estimators=10)\n",
    "rfc = rfc.fit(X_train, y_train)"
   ]
  },
  {
   "cell_type": "code",
   "execution_count": 18,
   "metadata": {},
   "outputs": [
    {
     "name": "stdout",
     "output_type": "stream",
     "text": [
      "Training Score: 1.0%\n"
     ]
    }
   ],
   "source": [
    "# Generate prediction score from training data \n",
    "rfc_train_predictions = rfc.predict(X_train)\n",
    "# print(train_predictions)\n",
    "rfc_train_score = rfc.score(X_train, y_train)\n",
    "print(f\"Training Score: {rfc_train_score}%\")"
   ]
  },
  {
   "cell_type": "code",
   "execution_count": 19,
   "metadata": {},
   "outputs": [
    {
     "name": "stdout",
     "output_type": "stream",
     "text": [
      "Test Score: 0.8666666666666667%\n"
     ]
    }
   ],
   "source": [
    "# Generate prediction score from testing data\n",
    "rfc_test_predictions = rfc.predict(X_test)\n",
    "# print(test_predictions)\n",
    "rfc_test_score = model.score(X_test, y_test)\n",
    "print(f\"Test Score: {rfc_test_score}%\")"
   ]
  },
  {
   "cell_type": "code",
   "execution_count": 20,
   "metadata": {},
   "outputs": [
    {
     "data": {
      "text/plain": [
       "{'fit_time': array([0.00974274, 0.01027083, 0.01024413, 0.00899744, 0.00907683]),\n",
       " 'score_time': array([0.00104022, 0.00224614, 0.0011487 , 0.0010519 , 0.00090289]),\n",
       " 'test_score': array([0.96      , 1.        , 0.88      , 1.        , 0.83333333])}"
      ]
     },
     "execution_count": 20,
     "metadata": {},
     "output_type": "execute_result"
    }
   ],
   "source": [
    "# Cross Validation - Train\n",
    "cross_validate(rfc, X_train, y_train)"
   ]
  },
  {
   "cell_type": "code",
   "execution_count": 21,
   "metadata": {},
   "outputs": [
    {
     "data": {
      "text/plain": [
       "{'fit_time': array([0.00900102, 0.0088439 , 0.00868011, 0.00813556, 0.00816298]),\n",
       " 'score_time': array([0.00098252, 0.00105262, 0.00094938, 0.00090671, 0.0009079 ]),\n",
       " 'test_score': array([1.        , 1.        , 1.        , 0.83333333, 0.83333333])}"
      ]
     },
     "execution_count": 21,
     "metadata": {},
     "output_type": "execute_result"
    }
   ],
   "source": [
    "# Cross Validation - Test\n",
    "cross_validate(rfc, X_test, y_test)"
   ]
  }
 ],
 "metadata": {
  "kernelspec": {
   "display_name": "Python 3",
   "language": "python",
   "name": "python3"
  },
  "language_info": {
   "codemirror_mode": {
    "name": "ipython",
    "version": 3
   },
   "file_extension": ".py",
   "mimetype": "text/x-python",
   "name": "python",
   "nbconvert_exporter": "python",
   "pygments_lexer": "ipython3",
   "version": "3.8.5"
  }
 },
 "nbformat": 4,
 "nbformat_minor": 4
}
